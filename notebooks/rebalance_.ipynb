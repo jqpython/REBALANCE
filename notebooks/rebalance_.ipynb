{
 "cells": [
  {
   "cell_type": "code",
   "execution_count": 1,
   "id": "45166b20-aaee-4a54-be8b-88f298f4b225",
   "metadata": {},
   "outputs": [],
   "source": [
    "# Import libraries with specific purposes in mind\n",
    "import pandas as pd              # For data manipulation\n",
    "import numpy as np               # For numerical operations\n",
    "import matplotlib.pyplot as plt  # For visualizations\n",
    "import seaborn as sns           # For attractive statistical plots\n",
    "from ucimlrepo import fetch_ucirepo\n",
    "\n",
    "# Set up visualization defaults for better readability\n",
    "plt.style.use('seaborn-v0_8-darkgrid')\n",
    "plt.rcParams['figure.figsize'] = (10, 6)\n",
    "plt.rcParams['font.size'] = 12\n",
    "\n",
    "# This helps us see all columns when displaying dataframes\n",
    "pd.set_option('display.max_columns', None)\n",
    "pd.set_option('display.width', None)"
   ]
  },
  {
   "cell_type": "code",
   "execution_count": 2,
   "id": "4487edec-48c5-4b50-8099-9561adc00365",
   "metadata": {},
   "outputs": [
    {
     "name": "stdout",
     "output_type": "stream",
     "text": [
      "Loading UCI Adult dataset...\n",
      "\n",
      "Dataset shape: (48842, 14)\n",
      "This means we have 48,842 people and 14 features about each person\n",
      "\n",
      "First 5 rows of our data:\n",
      "   age         workclass  fnlwgt  education  education-num  \\\n",
      "0   39         State-gov   77516  Bachelors             13   \n",
      "1   50  Self-emp-not-inc   83311  Bachelors             13   \n",
      "2   38           Private  215646    HS-grad              9   \n",
      "3   53           Private  234721       11th              7   \n",
      "4   28           Private  338409  Bachelors             13   \n",
      "\n",
      "       marital-status         occupation   relationship   race     sex  \\\n",
      "0       Never-married       Adm-clerical  Not-in-family  White    Male   \n",
      "1  Married-civ-spouse    Exec-managerial        Husband  White    Male   \n",
      "2            Divorced  Handlers-cleaners  Not-in-family  White    Male   \n",
      "3  Married-civ-spouse  Handlers-cleaners        Husband  Black    Male   \n",
      "4  Married-civ-spouse     Prof-specialty           Wife  Black  Female   \n",
      "\n",
      "   capital-gain  capital-loss  hours-per-week native-country  \n",
      "0          2174             0              40  United-States  \n",
      "1             0             0              13  United-States  \n",
      "2             0             0              40  United-States  \n",
      "3             0             0              40  United-States  \n",
      "4             0             0              40           Cuba  \n",
      "\n",
      "Target variable (income) distribution:\n",
      "income\n",
      "<=50K     24720\n",
      "<=50K.    12435\n",
      ">50K       7841\n",
      ">50K.      3846\n",
      "Name: count, dtype: int64\n",
      "\n",
      "Percentage earning >50K: 16.05%\n"
     ]
    }
   ],
   "source": [
    "# Fetch the dataset\n",
    "print(\"Loading UCI Adult dataset...\")\n",
    "adult = fetch_ucirepo(id=2)\n",
    "\n",
    "# Extract features and target\n",
    "X = adult.data.features\n",
    "y = adult.data.targets\n",
    "\n",
    "# Let's understand what we're working with\n",
    "print(f\"\\nDataset shape: {X.shape}\")\n",
    "print(f\"This means we have {X.shape[0]:,} people and {X.shape[1]} features about each person\")\n",
    "\n",
    "# Examine the first few rows\n",
    "print(\"\\nFirst 5 rows of our data:\")\n",
    "print(X.head())\n",
    "\n",
    "# What are we trying to predict?\n",
    "print(\"\\nTarget variable (income) distribution:\")\n",
    "print(y.value_counts())\n",
    "print(f\"\\nPercentage earning >50K: {(y.values == '>50K').mean() * 100:.2f}%\")"
   ]
  },
  {
   "cell_type": "code",
   "execution_count": null,
   "id": "a10dff41-1153-4651-b2d7-8a3a83c934fe",
   "metadata": {},
   "outputs": [],
   "source": []
  }
 ],
 "metadata": {
  "kernelspec": {
   "display_name": "Python 3 (ipykernel)",
   "language": "python",
   "name": "python3"
  },
  "language_info": {
   "codemirror_mode": {
    "name": "ipython",
    "version": 3
   },
   "file_extension": ".py",
   "mimetype": "text/x-python",
   "name": "python",
   "nbconvert_exporter": "python",
   "pygments_lexer": "ipython3",
   "version": "3.12.3"
  }
 },
 "nbformat": 4,
 "nbformat_minor": 5
}
