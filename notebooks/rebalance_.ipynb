{
 "cells": [
  {
   "cell_type": "code",
   "execution_count": 13,
   "id": "45166b20-aaee-4a54-be8b-88f298f4b225",
   "metadata": {},
   "outputs": [],
   "source": [
    "# Import libraries with specific purposes in mind\n",
    "import sys\n",
    "import pandas as pd              # For data manipulation\n",
    "import numpy as np               # For numerical operations\n",
    "import matplotlib.pyplot as plt  # For visualizations\n",
    "import sklearn\n",
    "import imblearn\n",
    "import seaborn as sns           # For attractive statistical plots\n",
    "from ucimlrepo import fetch_ucirepo"
   ]
  },
  {
   "cell_type": "code",
   "execution_count": 14,
   "id": "dbcd39b8-9a86-4938-a9ce-c4f1cca2d579",
   "metadata": {},
   "outputs": [
    {
     "name": "stdout",
     "output_type": "stream",
     "text": [
      "Python version: 3.12.3 (main, Feb  4 2025, 14:48:35) [GCC 13.3.0]\n",
      "NumPy version: 2.3.0\n",
      "Pandas version: 2.3.0\n",
      "Scikit-learn version: 1.6.1\n",
      "Imbalanced-learn version: 0.13.0\n"
     ]
    }
   ],
   "source": [
    "print(f\"Python version: {sys.version}\")\n",
    "print(f\"NumPy version: {np.__version__}\")\n",
    "print(f\"Pandas version: {pd.__version__}\")\n",
    "print(f\"Scikit-learn version: {sklearn.__version__}\")\n",
    "print(f\"Imbalanced-learn version: {imblearn.__version__}\")"
   ]
  },
  {
   "cell_type": "code",
   "execution_count": 16,
   "id": "fa551a54-d875-4c8c-a00e-68bd418c459c",
   "metadata": {},
   "outputs": [
    {
     "name": "stdout",
     "output_type": "stream",
     "text": [
      "Test dataframe created successfully!\n",
      "   feature1  feature2  gender  income\n",
      "0 -0.557612  0.279413    Male       1\n",
      "1  0.079340  0.242017    Male       1\n",
      "2  0.752932 -0.293882    Male       1\n",
      "3 -1.300547 -0.413835  Female       0\n",
      "4 -1.320908  0.338033    Male       0\n",
      "\n",
      "Gender distribution:\n",
      "gender\n",
      "Male      52\n",
      "Female    48\n",
      "Name: count, dtype: int64\n"
     ]
    }
   ],
   "source": [
    "# testing basic operations\n",
    "data = pd.DataFrame({\n",
    "    'feature1': np.random.randn(100),\n",
    "    'feature2': np.random.randn(100),\n",
    "    'gender': np.random.choice(['Male', 'Female'], 100),\n",
    "    'income': np.random.choice([0, 1], 100)\n",
    "})\n",
    "\n",
    "print(\"Test dataframe created successfully!\")\n",
    "print(data.head())\n",
    "print(f\"\\nGender distribution:\\n{data['gender'].value_counts()}\")\n"
   ]
  },
  {
   "cell_type": "code",
   "execution_count": null,
   "id": "13999c0a-71b1-4923-8f08-8937437fa2e5",
   "metadata": {},
   "outputs": [],
   "source": []
  }
 ],
 "metadata": {
  "kernelspec": {
   "display_name": "Python 3 (ipykernel)",
   "language": "python",
   "name": "python3"
  },
  "language_info": {
   "codemirror_mode": {
    "name": "ipython",
    "version": 3
   },
   "file_extension": ".py",
   "mimetype": "text/x-python",
   "name": "python",
   "nbconvert_exporter": "python",
   "pygments_lexer": "ipython3",
   "version": "3.12.3"
  }
 },
 "nbformat": 4,
 "nbformat_minor": 5
}
